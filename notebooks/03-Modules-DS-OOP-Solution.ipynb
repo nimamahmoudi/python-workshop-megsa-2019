{
 "cells": [
  {
   "cell_type": "markdown",
   "metadata": {},
   "source": [
    "# Solution 1"
   ]
  },
  {
   "cell_type": "code",
   "execution_count": 2,
   "metadata": {
    "ExecuteTime": {
     "end_time": "2019-06-04T17:48:38.451689Z",
     "start_time": "2019-06-04T17:48:32.318463Z"
    }
   },
   "outputs": [
    {
     "name": "stdout",
     "output_type": "stream",
     "text": [
      "What's your guess?5\n",
      "Too high!\n",
      "What's your guess?3\n",
      "Too high!\n",
      "What's your guess?1\n",
      "You got it!\n",
      "And it only took you 3 tries!\n"
     ]
    }
   ],
   "source": [
    "import random\n",
    "\n",
    "number = random.randint(1,9)\n",
    "guess = 0\n",
    "count = 0\n",
    "\n",
    "\n",
    "while guess != number and guess != \"exit\":\n",
    "    guess = input(\"What's your guess?\")\n",
    "    \n",
    "    if guess == \"exit\":\n",
    "        break\n",
    "    \n",
    "    guess = int(guess)\n",
    "    count += 1\n",
    "    \n",
    "    if guess < number:\n",
    "        print(\"Too low!\")\n",
    "    elif guess > number:\n",
    "        print(\"Too high!\")\n",
    "    else:\n",
    "        print(\"You got it!\")\n",
    "        print(\"And it only took you\",count,\"tries!\")\n"
   ]
  },
  {
   "cell_type": "markdown",
   "metadata": {},
   "source": [
    "# Solution 2"
   ]
  },
  {
   "cell_type": "code",
   "execution_count": 5,
   "metadata": {
    "ExecuteTime": {
     "end_time": "2019-06-04T17:49:22.960721Z",
     "start_time": "2019-06-04T17:49:21.400139Z"
    }
   },
   "outputs": [
    {
     "name": "stdout",
     "output_type": "stream",
     "text": [
      "How many characters in your password?15\n",
      "9zl:D[vN}HRp@=6\n"
     ]
    }
   ],
   "source": [
    "import string\n",
    "import random\n",
    "\n",
    "def pw_gen(size = 8, chars=string.ascii_letters + string.digits + string.punctuation):\n",
    "    return ''.join(random.choice(chars) for _ in range(size))\n",
    "\n",
    "print(pw_gen(int(input('How many characters in your password?'))))"
   ]
  },
  {
   "cell_type": "markdown",
   "metadata": {},
   "source": [
    "# Solution 3"
   ]
  },
  {
   "cell_type": "code",
   "execution_count": 1,
   "metadata": {
    "ExecuteTime": {
     "end_time": "2019-06-04T17:43:20.138105Z",
     "start_time": "2019-06-04T17:41:40.654939Z"
    }
   },
   "outputs": [
    {
     "name": "stdout",
     "output_type": "stream",
     "text": [
      "Starting a game of Hangman...\n",
      "How many incorrect attempts do you want? [1-25] 25\n",
      "What minimum word length do you want? [4-16] 4\n",
      "Selecting a word...\n",
      "\n",
      "Word: *****\n",
      "Attempts Remaining: 25\n",
      "Previous Guesses: \n",
      "Choose the next letter: o\n",
      "o is NOT in the word!\n",
      "\n",
      "The word is cycle\n",
      "Try again next time!\n",
      "Word: *****\n",
      "Attempts Remaining: 24\n",
      "Previous Guesses: o\n",
      "Choose the next letter: e\n",
      "e is in the word!\n",
      "\n",
      "The word is cycle\n",
      "Try again next time!\n",
      "Word: ****e\n",
      "Attempts Remaining: 24\n",
      "Previous Guesses: o\n",
      "Choose the next letter: a\n",
      "a is NOT in the word!\n",
      "\n",
      "The word is cycle\n",
      "Try again next time!\n",
      "Word: ****e\n",
      "Attempts Remaining: 23\n",
      "Previous Guesses: o a\n",
      "Choose the next letter: i\n",
      "i is NOT in the word!\n",
      "\n",
      "The word is cycle\n",
      "Try again next time!\n",
      "Word: ****e\n",
      "Attempts Remaining: 22\n",
      "Previous Guesses: o a i\n",
      "Choose the next letter: d\n",
      "d is NOT in the word!\n",
      "\n",
      "The word is cycle\n",
      "Try again next time!\n",
      "Word: ****e\n",
      "Attempts Remaining: 21\n",
      "Previous Guesses: o a i d\n",
      "Choose the next letter: e\n",
      "e has been guessed before\n",
      "Choose the next letter: u\n",
      "u is NOT in the word!\n",
      "\n",
      "The word is cycle\n",
      "Try again next time!\n",
      "Word: ****e\n",
      "Attempts Remaining: 20\n",
      "Previous Guesses: o a i d u\n",
      "Choose the next letter: f\n",
      "f is NOT in the word!\n",
      "\n",
      "The word is cycle\n",
      "Try again next time!\n",
      "Word: ****e\n",
      "Attempts Remaining: 19\n",
      "Previous Guesses: o a i d u f\n",
      "Choose the next letter: c\n",
      "c is in the word!\n",
      "\n",
      "The word is cycle\n",
      "Try again next time!\n",
      "Word: c*c*e\n",
      "Attempts Remaining: 19\n",
      "Previous Guesses: o a i d u f\n",
      "Choose the next letter: y\n",
      "y is in the word!\n",
      "\n",
      "The word is cycle\n",
      "Try again next time!\n",
      "Word: cyc*e\n",
      "Attempts Remaining: 19\n",
      "Previous Guesses: o a i d u f\n",
      "Choose the next letter: l\n",
      "l is in the word!\n",
      "\n",
      "The word is cycle\n",
      "Congratulations! You won!\n",
      "Would you like to try again? [y/Y] n\n"
     ]
    }
   ],
   "source": [
    "from string import ascii_lowercase\n",
    "from words import get_random_word\n",
    "\n",
    "\n",
    "def get_num_attempts():\n",
    "    \"\"\"Get user-inputted number of incorrect attempts for the game.\"\"\"\n",
    "    while True:\n",
    "        num_attempts = input(\n",
    "            'How many incorrect attempts do you want? [1-25] ')\n",
    "        try:\n",
    "            num_attempts = int(num_attempts)\n",
    "            if 1 <= num_attempts <= 25:\n",
    "                return num_attempts\n",
    "            else:\n",
    "                print('{0} is not between 1 and 25'.format(num_attempts))\n",
    "        except ValueError:\n",
    "            print('{0} is not an integer between 1 and 25'.format(\n",
    "                num_attempts))\n",
    "\n",
    "\n",
    "def get_min_word_length():\n",
    "    \"\"\"Get user-inputted minimum word length for the game.\"\"\"\n",
    "    while True:\n",
    "        min_word_length = input(\n",
    "            'What minimum word length do you want? [4-16] ')\n",
    "        try:\n",
    "            min_word_length = int(min_word_length)\n",
    "            if 4 <= min_word_length <= 16:\n",
    "                return min_word_length\n",
    "            else:\n",
    "                print('{0} is not between 4 and 16'.format(min_word_length))\n",
    "        except ValueError:\n",
    "            print('{0} is not an integer between 4 and 16'.format(min_word_length))\n",
    "\n",
    "\n",
    "def get_display_word(word, idxs):\n",
    "    \"\"\"Get the word suitable for display.\"\"\"\n",
    "    if len(word) != len(idxs):\n",
    "        raise ValueError('Word length and indices length are not the same')\n",
    "    displayed_word = ''.join(\n",
    "        [letter if idxs[i] else '*' for i, letter in enumerate(word)])\n",
    "    return displayed_word.strip()\n",
    "\n",
    "\n",
    "def get_next_letter(remaining_letters):\n",
    "    \"\"\"Get the user-inputted next letter.\"\"\"\n",
    "    if len(remaining_letters) == 0:\n",
    "        raise ValueError('There are no remaining letters')\n",
    "    while True:\n",
    "        next_letter = input('Choose the next letter: ').lower()\n",
    "        if len(next_letter) != 1:\n",
    "            print('{0} is not a single character'.format(next_letter))\n",
    "        elif next_letter not in ascii_lowercase:\n",
    "            print('{0} is not a letter'.format(next_letter))\n",
    "        elif next_letter not in remaining_letters:\n",
    "            print('{0} has been guessed before'.format(next_letter))\n",
    "        else:\n",
    "            remaining_letters.remove(next_letter)\n",
    "            return next_letter\n",
    "\n",
    "\n",
    "def play_hangman():\n",
    "    \"\"\"Play a game of hangman.\n",
    "    At the end of the game, returns if the player wants to retry.\n",
    "    \"\"\"\n",
    "    # Let player specify difficulty\n",
    "    print('Starting a game of Hangman...')\n",
    "    attempts_remaining = get_num_attempts()\n",
    "    min_word_length = get_min_word_length()\n",
    "    # Randomly select a word\n",
    "    print('Selecting a word...')\n",
    "    word = get_random_word(min_word_length)\n",
    "    print()\n",
    "    # Initialize game state variables\n",
    "    idxs = [letter not in ascii_lowercase for letter in word]\n",
    "    remaining_letters = set(ascii_lowercase)\n",
    "    wrong_letters = []\n",
    "    word_solved = False\n",
    "    # Main game loop\n",
    "    while attempts_remaining > 0 and not word_solved:\n",
    "        # Print current game state\n",
    "        print('Word: {0}'.format(get_display_word(word, idxs)))\n",
    "        print('Attempts Remaining: {0}'.format(attempts_remaining))\n",
    "        print('Previous Guesses: {0}'.format(' '.join(wrong_letters)))\n",
    "\n",
    "        # Get player's next letter guess\n",
    "        next_letter = get_next_letter(remaining_letters)\n",
    "\n",
    "        # Check if letter guess is in word\n",
    "        if next_letter in word:\n",
    "            # Guessed correctly\n",
    "            print('{0} is in the word!'.format(next_letter))\n",
    "\n",
    "            # Reveal matching letters\n",
    "            for i in range(len(word)):\n",
    "                if word[i] == next_letter:\n",
    "                    idxs[i] = True\n",
    "        else:\n",
    "            # Guessed incorrectly\n",
    "            print('{0} is NOT in the word!'.format(next_letter))\n",
    "\n",
    "            # Decrement num of attempts left and append guess to wrong guesses\n",
    "            attempts_remaining -= 1\n",
    "            wrong_letters.append(next_letter)\n",
    "\n",
    "        # Check if word is completely solved\n",
    "        if False not in idxs:\n",
    "            word_solved = True\n",
    "        print()\n",
    "\n",
    "        # The game is over: reveal the word\n",
    "        print('The word is {0}'.format(word))\n",
    "\n",
    "        # Notify player of victory or defeat\n",
    "        if word_solved:\n",
    "            print('Congratulations! You won!')\n",
    "        else:\n",
    "            print('Try again next time!')\n",
    "\n",
    "    # Ask player if he/she wants to try again\n",
    "    try_again = input('Would you like to try again? [y/Y] ')\n",
    "    return try_again.lower() == 'y'\n",
    "\n",
    "\n",
    "while play_hangman():\n",
    "    print()"
   ]
  }
 ],
 "metadata": {
  "kernelspec": {
   "display_name": "Python 3",
   "language": "python",
   "name": "python3"
  },
  "language_info": {
   "codemirror_mode": {
    "name": "ipython",
    "version": 3
   },
   "file_extension": ".py",
   "mimetype": "text/x-python",
   "name": "python",
   "nbconvert_exporter": "python",
   "pygments_lexer": "ipython3",
   "version": "3.6.8"
  },
  "toc": {
   "base_numbering": 1,
   "nav_menu": {},
   "number_sections": true,
   "sideBar": true,
   "skip_h1_title": false,
   "title_cell": "Table of Contents",
   "title_sidebar": "Contents",
   "toc_cell": false,
   "toc_position": {},
   "toc_section_display": true,
   "toc_window_display": false
  },
  "varInspector": {
   "cols": {
    "lenName": 16,
    "lenType": 16,
    "lenVar": 40
   },
   "kernels_config": {
    "python": {
     "delete_cmd_postfix": "",
     "delete_cmd_prefix": "del ",
     "library": "var_list.py",
     "varRefreshCmd": "print(var_dic_list())"
    },
    "r": {
     "delete_cmd_postfix": ") ",
     "delete_cmd_prefix": "rm(",
     "library": "var_list.r",
     "varRefreshCmd": "cat(var_dic_list()) "
    }
   },
   "types_to_exclude": [
    "module",
    "function",
    "builtin_function_or_method",
    "instance",
    "_Feature"
   ],
   "window_display": false
  }
 },
 "nbformat": 4,
 "nbformat_minor": 2
}
