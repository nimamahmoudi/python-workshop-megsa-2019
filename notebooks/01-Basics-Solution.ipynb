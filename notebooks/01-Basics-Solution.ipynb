{
 "cells": [
  {
   "cell_type": "markdown",
   "metadata": {
    "ExecuteTime": {
     "end_time": "2019-06-04T01:21:23.110569Z",
     "start_time": "2019-06-04T01:20:58.407369Z"
    }
   },
   "source": [
    "# Rock-Paper-Scissors\n",
    "\n",
    "Source: https://www.practicepython.org/exercise/2014/03/26/08-rock-paper-scissors.html"
   ]
  },
  {
   "cell_type": "markdown",
   "metadata": {},
   "source": [
    "## Solution1"
   ]
  },
  {
   "cell_type": "code",
   "execution_count": 3,
   "metadata": {
    "ExecuteTime": {
     "end_time": "2019-06-04T01:23:54.851317Z",
     "start_time": "2019-06-04T01:23:42.554966Z"
    }
   },
   "outputs": [
    {
     "name": "stdout",
     "output_type": "stream",
     "text": [
      "What's your name?Nima\n",
      "And your name?Nima2\n",
      "Nima, do yo want to choose rock, paper or scissors?rock\n",
      "Nima2, do you want to choose rock, paper or scissors?paper\n",
      "Paper wins!\n"
     ]
    }
   ],
   "source": [
    "user1 = input(\"What's your name? \")\n",
    "user2 = input(\"And your name? \")\n",
    "user1_answer = input(\"%s, do yo want to choose rock, paper or scissors? \" % user1)\n",
    "user2_answer = input(\"%s, do you want to choose rock, paper or scissors? \" % user2)\n",
    "\n",
    "def compare(u1, u2):\n",
    "    if u1 == u2:\n",
    "        return(\"It's a tie!\")\n",
    "    elif u1 == 'rock':\n",
    "        if u2 == 'scissors':\n",
    "            return(\"Rock wins!\")\n",
    "        else:\n",
    "            return(\"Paper wins!\")\n",
    "    elif u1 == 'scissors':\n",
    "        if u2 == 'paper':\n",
    "            return(\"Scissors win!\")\n",
    "        else:\n",
    "            return(\"Rock wins!\")\n",
    "    elif u1 == 'paper':\n",
    "        if u2 == 'rock':\n",
    "            return(\"Paper wins!\")\n",
    "        else:\n",
    "            return(\"Scissors win!\")\n",
    "    else:\n",
    "        return(\"Invalid input! You have not entered rock, paper or scissors, try again.\")\n",
    "\n",
    "print(compare(user1_answer, user2_answer))"
   ]
  },
  {
   "cell_type": "markdown",
   "metadata": {},
   "source": [
    "# Solution 2\n",
    "\n",
    "This solution involves the use of python dictionaries. You will learn about this later on in the workshop."
   ]
  },
  {
   "cell_type": "code",
   "execution_count": 2,
   "metadata": {
    "ExecuteTime": {
     "end_time": "2019-06-04T01:22:18.667792Z",
     "start_time": "2019-06-04T01:22:11.652067Z"
    }
   },
   "outputs": [
    {
     "name": "stdout",
     "output_type": "stream",
     "text": [
      "Please pick one:\n",
      "            rock\n",
      "            scissors\n",
      "            paper\n",
      "Player a: rock\n",
      "Player b: scissors\n",
      "player a wins.\n",
      "Do you want to play another game, yes or no?\n",
      "no\n",
      "game over.\n"
     ]
    }
   ],
   "source": [
    "print('''Please pick one:\n",
    "            rock\n",
    "            scissors\n",
    "            paper''')\n",
    "\n",
    "while True:\n",
    "    game_dict = {'rock': 1, 'scissors': 2, 'paper': 3}\n",
    "    player_a = str(input(\"Player a: \"))\n",
    "    player_b = str(input(\"Player b: \"))\n",
    "    a = game_dict.get(player_a)\n",
    "    b = game_dict.get(player_b)\n",
    "    dif = a - b\n",
    "\n",
    "    if dif in [-1, 2]:\n",
    "        print('player a wins.')\n",
    "        if str(input('Do you want to play another game, yes or no?\\n')) == 'yes':\n",
    "            continue\n",
    "        else:\n",
    "            print('game over.')\n",
    "            break\n",
    "    elif dif in [-2, 1]:\n",
    "        print('player b wins.')\n",
    "        if str(input('Do you want to play another game, yes or no?\\n')) == 'yes':\n",
    "            continue\n",
    "        else:\n",
    "            print('game over.')\n",
    "            break\n",
    "    else:\n",
    "        print('Draw.Please continue.')\n",
    "        print('')\n"
   ]
  }
 ],
 "metadata": {
  "kernelspec": {
   "display_name": "Python 3",
   "language": "python",
   "name": "python3"
  },
  "language_info": {
   "codemirror_mode": {
    "name": "ipython",
    "version": 3
   },
   "file_extension": ".py",
   "mimetype": "text/x-python",
   "name": "python",
   "nbconvert_exporter": "python",
   "pygments_lexer": "ipython3",
   "version": "3.6.8"
  },
  "toc": {
   "base_numbering": 1,
   "nav_menu": {},
   "number_sections": true,
   "sideBar": true,
   "skip_h1_title": false,
   "title_cell": "Table of Contents",
   "title_sidebar": "Contents",
   "toc_cell": false,
   "toc_position": {},
   "toc_section_display": true,
   "toc_window_display": false
  },
  "varInspector": {
   "cols": {
    "lenName": 16,
    "lenType": 16,
    "lenVar": 40
   },
   "kernels_config": {
    "python": {
     "delete_cmd_postfix": "",
     "delete_cmd_prefix": "del ",
     "library": "var_list.py",
     "varRefreshCmd": "print(var_dic_list())"
    },
    "r": {
     "delete_cmd_postfix": ") ",
     "delete_cmd_prefix": "rm(",
     "library": "var_list.r",
     "varRefreshCmd": "cat(var_dic_list()) "
    }
   },
   "types_to_exclude": [
    "module",
    "function",
    "builtin_function_or_method",
    "instance",
    "_Feature"
   ],
   "window_display": false
  }
 },
 "nbformat": 4,
 "nbformat_minor": 2
}
